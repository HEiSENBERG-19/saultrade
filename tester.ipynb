{
 "cells": [
  {
   "cell_type": "code",
   "execution_count": 2,
   "metadata": {},
   "outputs": [],
   "source": [
    "from utils import login, get_atm_strike, get_option_symbols, get_quotes\n",
    "from config import Config\n",
    "from logger_setup import app_logger\n",
    "config = Config('creds/config.yaml', 'creds/tbs_rules.yaml')\n",
    "api = login(config)\n"
   ]
  },
  {
   "cell_type": "code",
   "execution_count": 4,
   "metadata": {},
   "outputs": [],
   "source": [
    "\n",
    "async def _get_atm_strike():\n",
    "    try:\n",
    "        atm_strike = await get_atm_strike(\n",
    "            config.get_rule('tsymbol'), \n",
    "            lambda e, t: api.get_quotes(e, t)\n",
    "        )\n",
    "        if not atm_strike:\n",
    "            app_logger.error(\"Failed to get ATM strike. Aborting simulation.\")\n",
    "            return None\n",
    "        return atm_strike\n",
    "    except Exception as e:\n",
    "        app_logger.error(f\"Error getting ATM strike: {e}\")\n",
    "        return None\n",
    "\n",
    "async def _get_option_symbols(atm_strike):\n",
    "    try:\n",
    "        strikes = {\n",
    "            'sce': (atm_strike + config.get_rule('sotm_points') + config.get_rule('bias_points'), 'CE'),\n",
    "            'spe': (atm_strike - config.get_rule('sotm_points') + config.get_rule('bias_points'), 'PE'),\n",
    "            # 'bce': (atm_strike + config.get_rule('botm_points') + config.get_rule('bias_points'), 'CE'),\n",
    "            # 'bpe': (atm_strike - config.get_rule('botm_points') + config.get_rule('bias_points'), 'PE'),\n",
    "        }\n",
    "        option_symbols = await get_option_symbols(config.get_rule('tsymbol'), strikes)\n",
    "        if not option_symbols:\n",
    "            app_logger.error(\"Failed to get option symbols. Aborting simulation.\")\n",
    "            return None\n",
    "        return option_symbols\n",
    "    except Exception as e:\n",
    "        app_logger.error(f\"Error getting option symbols: {e}\")\n",
    "        return None"
   ]
  },
  {
   "cell_type": "code",
   "execution_count": 5,
   "metadata": {},
   "outputs": [],
   "source": [
    "atm_strike = await _get_atm_strike()\n",
    "option_symbols = await _get_option_symbols(atm_strike)"
   ]
  },
  {
   "cell_type": "code",
   "execution_count": 6,
   "metadata": {},
   "outputs": [
    {
     "data": {
      "text/plain": [
       "{'sce': {'Exchange': 'NFO',\n",
       "  'Token': 48458,\n",
       "  'LotSize': 15,\n",
       "  'Symbol': 'BANKNIFTY',\n",
       "  'TradingSymbol': 'BANKNIFTY11SEP24C51400',\n",
       "  'Expiry': Timestamp('2024-09-11 00:00:00'),\n",
       "  'Instrument': 'OPTIDX',\n",
       "  'OptionType': 'CE',\n",
       "  'StrikePrice': 51400.0},\n",
       " 'spe': {'Exchange': 'NFO',\n",
       "  'Token': 48459,\n",
       "  'LotSize': 15,\n",
       "  'Symbol': 'BANKNIFTY',\n",
       "  'TradingSymbol': 'BANKNIFTY11SEP24P51400',\n",
       "  'Expiry': Timestamp('2024-09-11 00:00:00'),\n",
       "  'Instrument': 'OPTIDX',\n",
       "  'OptionType': 'PE',\n",
       "  'StrikePrice': 51400.0}}"
      ]
     },
     "execution_count": 6,
     "metadata": {},
     "output_type": "execute_result"
    }
   ],
   "source": [
    "option_symbols"
   ]
  },
  {
   "cell_type": "code",
   "execution_count": 7,
   "metadata": {},
   "outputs": [
    {
     "name": "stdout",
     "output_type": "stream",
     "text": [
      "Margin: 311854.25\n",
      "Trade Margin: 311854.25\n"
     ]
    }
   ],
   "source": [
    "from margin_calculator import MarginCalculator\n",
    "margin_calculator = MarginCalculator(api, config.get_rule('account_id'))\n",
    "adjusted_quantity = 50  # Specify the quantity you want to calculate the margin for\n",
    "margin = await margin_calculator.calculate_margin(option_symbols, adjusted_quantity)\n",
    "final_margin, final_trade_margin = margin\n",
    "print(f'Margin: {final_margin}')\n",
    "print(f'Trade Margin: {final_trade_margin}')"
   ]
  },
  {
   "cell_type": "code",
   "execution_count": 14,
   "metadata": {},
   "outputs": [
    {
     "name": "stdout",
     "output_type": "stream",
     "text": [
      "None\n"
     ]
    }
   ],
   "source": [
    "print(margin)"
   ]
  },
  {
   "cell_type": "code",
   "execution_count": 3,
   "metadata": {},
   "outputs": [
    {
     "name": "stdout",
     "output_type": "stream",
     "text": [
      "{'request_time': '09:34:47 06-09-2024', 'stat': 'Ok', 'span': '167556.60', 'expo': '30808.47', 'span_trade': '167556.60', 'expo_trade': '30808.47', 'pre_trade': '0.00', 'add': '0.00', 'add_trade': '0.00', 'ten': '0.00', 'ten_trade': '0.00', 'del': '0.00', 'del_trade': '0.00', 'spl': '0.00', 'spl_trade': '0.00'}\n"
     ]
    }
   ],
   "source": [
    "from NorenRestApiPy.NorenApi import position\n",
    "\n",
    "positionlist = []\n",
    "\n",
    "position1 = position()\n",
    "position1.prd = 'I'\n",
    "position1.exch='NFO'\n",
    "position1.instname = 'OPTIDX'\n",
    "position1.symname = 'BANKNIFTY'\n",
    "position1.exd= '11-SEP-2024'\n",
    "position1.optt= 'CE'\n",
    "position1.strprc= '51500.0'\n",
    "position1.buyqty= '0'\n",
    "position1.sellqty= '15'\n",
    "position1.netqty= '-15'\n",
    "positionlist.append(position1)\n",
    "\n",
    "# position2 = position()\n",
    "# position2.prd = 'I'\n",
    "# position2.exch='NFO'\n",
    "# position2.instname = 'OPTSTK'\n",
    "# position2.symname = 'BANKNIFTY'\n",
    "# position2.exd= '04-SEP-2024'\n",
    "# position2.optt= 'PE'\n",
    "# position2.strprc= '51200.0'\n",
    "# position2.buyqty= '0'\n",
    "# position2.sellqty= '15'\n",
    "# position2.netqty= '-15'\n",
    "# positionlist.append(position2)\n",
    "\n",
    "# position3= position()\n",
    "# position3.prd = 'I'\n",
    "# position3.exch='NFO'\n",
    "# position3.instname = 'OPTSTK'\n",
    "# position3.symname = 'BANKNIFTY'\n",
    "# position3.exd= '04-SEP-2024'\n",
    "# position3.optt= 'CE'\n",
    "# position3.strprc='50700.0'\n",
    "# position3.buyqty= '15'\n",
    "# position3.sellqty= '0'\n",
    "# position3.netqty= '15'\n",
    "# positionlist.append(position3)\n",
    "\n",
    "# position4= position()\n",
    "# position4.prd = 'I'\n",
    "# position4.exch='NFO'\n",
    "# position4.instname = 'OPTIDX'\n",
    "# position4.symname = 'BANKNIFTY'\n",
    "# position4.exd= '04-SEP-2024'\n",
    "# position4.optt= 'PE'\n",
    "# position4.strprc= '50700.0'\n",
    "# position4.buyqty= '15'\n",
    "# position4.sellqty= '0'\n",
    "# position4.netqty= '115'\n",
    "# positionlist.append(position4)\n",
    "\n",
    "actid = 'xyz'\n",
    "senddata = {}\n",
    "senddata['actid'] =actid\n",
    "senddata['pos'] = positionlist\n",
    "#payload = 'jData=' + json.dumps(senddata,default=lambda o: o.encode())\n",
    "#print(payload)\n",
    "ret = api.span_calculator(actid,positionlist)\n",
    "print(ret)"
   ]
  },
  {
   "cell_type": "code",
   "execution_count": 81,
   "metadata": {},
   "outputs": [],
   "source": [
    "span = float(ret.get('span', 0))\n",
    "expo = float(ret.get('expo', 0))\n",
    "span_trade = float(ret.get('span_trade', 0))\n",
    "expo_trade = float(ret.get('expo_trade', 0))\n",
    "\n",
    "margin = span + expo\n",
    "trade_margin = span_trade + expo_trade\n",
    "final_margin = round(margin * 1.009, 2)\n",
    "final_trade_margin = round(trade_margin * 1.009, 2)\n",
    "print(f\"Required margin: {final_trade_margin}\")\n",
    "print(f\"Required trade margin: {final_trade_margin}\")"
   ]
  },
  {
   "cell_type": "code",
   "execution_count": null,
   "metadata": {},
   "outputs": [],
   "source": []
  }
 ],
 "metadata": {
  "kernelspec": {
   "display_name": "shoon",
   "language": "python",
   "name": "python3"
  },
  "language_info": {
   "codemirror_mode": {
    "name": "ipython",
    "version": 3
   },
   "file_extension": ".py",
   "mimetype": "text/x-python",
   "name": "python",
   "nbconvert_exporter": "python",
   "pygments_lexer": "ipython3",
   "version": "3.12.3"
  }
 },
 "nbformat": 4,
 "nbformat_minor": 2
}
