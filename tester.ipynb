{
 "cells": [
  {
   "cell_type": "code",
   "execution_count": 1,
   "metadata": {},
   "outputs": [],
   "source": [
    "from utils import login, get_atm_strike, get_option_symbols, get_quotes\n",
    "from config import Config\n",
    "from logger_setup import app_logger\n",
    "config = Config('creds/config.yaml', 'creds/tbs_rules.yaml')\n",
    "api = login(config)\n",
    "async def _get_atm_strike():\n",
    "    try:\n",
    "        atm_strike = await get_atm_strike(\n",
    "            config.get_rule('tsymbol'), \n",
    "            lambda e, t: api.get_quotes(e, t)\n",
    "        )\n",
    "        if not atm_strike:\n",
    "            app_logger.error(\"Failed to get ATM strike. Aborting simulation.\")\n",
    "            return None\n",
    "        return atm_strike\n",
    "    except Exception as e:\n",
    "        app_logger.error(f\"Error getting ATM strike: {e}\")\n",
    "        return None\n",
    "\n",
    "async def _get_option_symbols(atm_strike):\n",
    "    try:\n",
    "        strikes = {\n",
    "            'sce': (atm_strike + config.get_rule('sotm_points') + config.get_rule('bias_points'), 'CE'),\n",
    "            'spe': (atm_strike - config.get_rule('sotm_points') + config.get_rule('bias_points'), 'PE'),\n",
    "        }\n",
    "        option_symbols = await get_option_symbols(config.get_rule('tsymbol'), strikes)\n",
    "        if not option_symbols:\n",
    "            app_logger.error(\"Failed to get option symbols. Aborting simulation.\")\n",
    "            return None\n",
    "        return option_symbols\n",
    "    except Exception as e:\n",
    "        app_logger.error(f\"Error getting option symbols: {e}\")\n",
    "        return None"
   ]
  },
  {
   "cell_type": "code",
   "execution_count": 2,
   "metadata": {},
   "outputs": [],
   "source": [
    "atm_strike = await _get_atm_strike()\n",
    "option_symbols = await _get_option_symbols(atm_strike)"
   ]
  },
  {
   "cell_type": "code",
   "execution_count": 3,
   "metadata": {},
   "outputs": [
    {
     "data": {
      "text/plain": [
       "{'sce': {'Exchange': 'NFO',\n",
       "  'Token': 59154,\n",
       "  'LotSize': 25,\n",
       "  'Symbol': 'FINNIFTY',\n",
       "  'TradingSymbol': 'FINNIFTY20AUG24C23200',\n",
       "  'Expiry': Timestamp('2024-08-20 00:00:00'),\n",
       "  'Instrument': 'OPTIDX',\n",
       "  'OptionType': 'CE',\n",
       "  'StrikePrice': 23200.0},\n",
       " 'spe': {'Exchange': 'NFO',\n",
       "  'Token': 59155,\n",
       "  'LotSize': 25,\n",
       "  'Symbol': 'FINNIFTY',\n",
       "  'TradingSymbol': 'FINNIFTY20AUG24P23200',\n",
       "  'Expiry': Timestamp('2024-08-20 00:00:00'),\n",
       "  'Instrument': 'OPTIDX',\n",
       "  'OptionType': 'PE',\n",
       "  'StrikePrice': 23200.0}}"
      ]
     },
     "execution_count": 3,
     "metadata": {},
     "output_type": "execute_result"
    }
   ],
   "source": [
    "from margin_calculator import MarginCalculator\n",
    "required_margin, final_trade_margin = await margin_calculator.calculate_margin(option_symbols, final_quantity)"
   ]
  },
  {
   "cell_type": "code",
   "execution_count": 2,
   "metadata": {},
   "outputs": [
    {
     "name": "stdout",
     "output_type": "stream",
     "text": [
      "299295\n"
     ]
    }
   ],
   "source": [
    "import pyotp\n",
    "factor2 = pyotp.TOTP('7E5YER64Y5VE257GY7D265X6472CLICK').now()\n",
    "print(factor2)\n",
    "\n"
   ]
  },
  {
   "cell_type": "code",
   "execution_count": null,
   "metadata": {},
   "outputs": [],
   "source": [
    "fno"
   ]
  }
 ],
 "metadata": {
  "kernelspec": {
   "display_name": "shoon",
   "language": "python",
   "name": "python3"
  },
  "language_info": {
   "codemirror_mode": {
    "name": "ipython",
    "version": 3
   },
   "file_extension": ".py",
   "mimetype": "text/x-python",
   "name": "python",
   "nbconvert_exporter": "python",
   "pygments_lexer": "ipython3",
   "version": "3.12.3"
  }
 },
 "nbformat": 4,
 "nbformat_minor": 2
}
